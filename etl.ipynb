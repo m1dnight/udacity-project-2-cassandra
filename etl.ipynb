{
 "cells": [
  {
   "cell_type": "markdown",
   "metadata": {},
   "source": [
    "# Part I. ETL Pipeline for Pre-Processing the Files"
   ]
  },
  {
   "cell_type": "markdown",
   "metadata": {},
   "source": [
    "#### Import Python packages "
   ]
  },
  {
   "cell_type": "code",
   "execution_count": null,
   "metadata": {},
   "outputs": [],
   "source": [
    "# Import Python packages \n",
    "import pandas as pd\n",
    "import cassandra\n",
    "import re\n",
    "import os\n",
    "import glob\n",
    "import numpy as np\n",
    "import json\n",
    "import csv"
   ]
  },
  {
   "cell_type": "markdown",
   "metadata": {},
   "source": [
    "#### Creating list of filepaths to process original event csv data files"
   ]
  },
  {
   "cell_type": "code",
   "execution_count": null,
   "metadata": {},
   "outputs": [],
   "source": [
    "# All data is present in the ./event_data directory. \n",
    "# Create a list of all the files in that directory.\n",
    "filepath = os.getcwd() + '/event_data'\n",
    "for root, dirs, files in os.walk(filepath):\n",
    "    file_path_list = glob.glob(os.path.join(root,'*'))"
   ]
  },
  {
   "cell_type": "markdown",
   "metadata": {},
   "source": [
    "#### Processing the files to create the data file csv that will be used for Apache Casssandra tables"
   ]
  },
  {
   "cell_type": "code",
   "execution_count": null,
   "metadata": {},
   "outputs": [],
   "source": [
    "# Read all the CSV files into memory.\n",
    "full_data_rows_list = [] \n",
    "for f in file_path_list:\n",
    "    with open(f, 'r', encoding = 'utf8', newline='') as csvfile: \n",
    "        csvreader = csv.reader(csvfile) \n",
    "        next(csvreader)\n",
    "\n",
    "        for line in csvreader:\n",
    "            full_data_rows_list.append(line) \n",
    "            \n",
    "# Write the files out to a single file.\n",
    "csv.register_dialect('myDialect', quoting=csv.QUOTE_ALL, skipinitialspace=True)\n",
    "\n",
    "with open('event_datafile_new.csv', 'w', encoding = 'utf8', newline='') as f:\n",
    "    writer = csv.writer(f, dialect='myDialect')\n",
    "    writer.writerow(['artist','firstName','gender','itemInSession','lastName','length',\\\n",
    "                'level','location','sessionId','song','userId'])\n",
    "    for row in full_data_rows_list:\n",
    "        if (row[0] == ''):\n",
    "            continue\n",
    "        writer.writerow((row[0], row[2], row[3], row[4], row[5], row[6], row[7], row[8], row[12], row[13], row[16]))"
   ]
  },
  {
   "cell_type": "markdown",
   "metadata": {},
   "source": [
    "\n",
    "The generated file (event_datafile_new.csv) contains the following columns.\n",
    "\n",
    "- artist \n",
    "- firstName of user\n",
    "- gender of user\n",
    "- item number in session\n",
    "- last name of user\n",
    "- length of the song\n",
    "- level (paid or free song)\n",
    "- location of the user\n",
    "- sessionId\n",
    "- song title\n",
    "- userId\n",
    "\n",
    "The image below is a screenshot of what the denormalized data should appear like in the file.\n",
    "\n",
    "<img src=\"images/image_event_datafile_new.jpg\">"
   ]
  },
  {
   "cell_type": "markdown",
   "metadata": {},
   "source": [
    "### Count the data in the csv"
   ]
  },
  {
   "cell_type": "code",
   "execution_count": null,
   "metadata": {},
   "outputs": [],
   "source": [
    "# Count the amount of rows in the file for sanity checking and debugging.\n",
    "with open('event_datafile_new.csv', 'r', encoding = 'utf8') as f:\n",
    "    print(sum(1 for line in f))"
   ]
  },
  {
   "cell_type": "markdown",
   "metadata": {},
   "source": [
    "## Setting up the Cassandra Cluster"
   ]
  },
  {
   "cell_type": "markdown",
   "metadata": {},
   "source": [
    "#### Creating a Cluster"
   ]
  },
  {
   "cell_type": "code",
   "execution_count": null,
   "metadata": {},
   "outputs": [],
   "source": [
    "from cassandra.cluster import Cluster\n",
    "cluster = Cluster(['127.0.0.1']) #If you have a locally installed Apache Cassandra instance\n",
    "\n",
    "# To establish connection and begin executing queries, need a session\n",
    "session = cluster.connect()"
   ]
  },
  {
   "cell_type": "markdown",
   "metadata": {},
   "source": [
    "#### Create Keyspace"
   ]
  },
  {
   "cell_type": "code",
   "execution_count": null,
   "metadata": {},
   "outputs": [],
   "source": [
    "try:\n",
    "    session.execute(\"\"\"\n",
    "    CREATE KEYSPACE IF NOT EXISTS udacity \n",
    "    WITH REPLICATION = \n",
    "    { 'class' : 'SimpleStrategy', 'replication_factor' : 1 }\"\"\"\n",
    ")\n",
    "\n",
    "except Exception as e:\n",
    "    print(e)"
   ]
  },
  {
   "cell_type": "markdown",
   "metadata": {},
   "source": [
    "#### Set Keyspace"
   ]
  },
  {
   "cell_type": "code",
   "execution_count": null,
   "metadata": {},
   "outputs": [],
   "source": [
    "try:\n",
    "    session.set_keyspace('udacity')\n",
    "except Exception as e:\n",
    "    print(e)"
   ]
  },
  {
   "cell_type": "markdown",
   "metadata": {},
   "source": [
    "### Helper functions used in the remainder of the assignment."
   ]
  },
  {
   "cell_type": "code",
   "execution_count": null,
   "metadata": {},
   "outputs": [],
   "source": [
    "def drop_table(table_name):\n",
    "    \"\"\"\n",
    "    Drops the table of given name, if it exists.\n",
    "    \"\"\"\n",
    "    query = \"DROP TABLE IF EXISTS {};\".format(table_name)\n",
    "    try:\n",
    "        session.execute(query)\n",
    "    except Exception as e:\n",
    "        print(e)\n",
    "\n",
    "\n",
    "def run_create_query(query):\n",
    "    \"\"\"\n",
    "    Runs a query without returning the result. \n",
    "    Used to create tables.\n",
    "    \"\"\"\n",
    "    try:\n",
    "        session.execute(query)\n",
    "    except Exception as e:\n",
    "        print(e)\n",
    "\n",
    "\n",
    "def sanitizeValues(values):\n",
    "    \"\"\"\n",
    "    This function sanitizes the inputs of the CSV files. \n",
    "    It converts all the numerical fields into the right type \n",
    "    by parsing them using int and float.\n",
    "    \"\"\"\n",
    "    #[artist, firstName, gender, itemInSession, lastName, length, level, location, sessionId, song, userId]\n",
    "    values[3] = int(values[3])\n",
    "    values[5] = float(values[5])\n",
    "    values[8] = int(values[8])\n",
    "    values[10] = int(values[10])\n",
    "    return values \n",
    "\n",
    "\n",
    "def insert_all_from_csv(session, query):\n",
    "    \"\"\"\n",
    "    Given an insert query, inserts the values\n",
    "    from the csv file into the database.\n",
    "    Sanitizes values before inserting.\n",
    "    \"\"\"\n",
    "    file = 'event_datafile_new.csv'\n",
    "\n",
    "    with open(file, encoding = 'utf8') as f:\n",
    "        csvreader = csv.reader(f)\n",
    "        next(csvreader) # skip header\n",
    "        for line in csvreader:\n",
    "            try:\n",
    "                session.execute(query, sanitizeValues(line))\n",
    "            except Exception as e:\n",
    "                print(e)\n",
    "\n",
    "\n",
    "def run_select(query):\n",
    "    \"\"\"\n",
    "    Runs the given query and prints the results.\n",
    "    \"\"\"\n",
    "    try:\n",
    "        rows = session.execute(query)\n",
    "    except Exception as e:\n",
    "        print(e)\n",
    "        \n",
    "    for row in rows:\n",
    "        print(row)"
   ]
  },
  {
   "cell_type": "markdown",
   "metadata": {},
   "source": [
    "## Create queries to ask the following three questions of the data\n",
    "\n",
    "### Query 1 \n",
    "> Give me the artist, song title and song's length in the music app history that was heard during  sessionId = 338, and itemInSession  = 4"
   ]
  },
  {
   "cell_type": "code",
   "execution_count": null,
   "metadata": {},
   "outputs": [],
   "source": [
    "# Create the table.\n",
    "# The table is dropped first so that subsequent runs dont \n",
    "# insert duplicate values into the database.\n",
    "drop_table(\"events_by_session_id_and_items\")\n",
    "\n",
    "# The primary key is chosen with the following reasoning. \n",
    "# A session contains multiple items, and within a session \"itemInSession\" \n",
    "# is unique, so those two values together are a unique identifier for a row.\n",
    "# Because it makes sense to group sessions into a single partition the \n",
    "# primary key consists of two partition keys, instead of a single partition key and \n",
    "# a clustering key.\n",
    "query = \"\"\"CREATE TABLE IF NOT EXISTS events_by_session_id_and_items\n",
    "           (artist text, firstName text, gender text, itemInSession int, lastName text, length float, level text, location text, sessionId int, song text, userId int,\n",
    "            PRIMARY KEY ((sessionId, itemInSession)))\"\"\"\n",
    "            \n",
    "run_create_query(query)"
   ]
  },
  {
   "cell_type": "code",
   "execution_count": null,
   "metadata": {},
   "outputs": [],
   "source": [
    "# Populate the table.\n",
    "query = \"\"\" \n",
    "INSERT INTO events_by_session_id_and_items \n",
    "(artist, firstName, gender, itemInSession, lastName, length, level, location, sessionId, song, userId)\n",
    "VALUES (%s, %s, %s, %s, %s, %s, %s, %s, %s, %s, %s)\n",
    "\"\"\"\n",
    "\n",
    "insert_all_from_csv(session, query)"
   ]
  },
  {
   "cell_type": "code",
   "execution_count": null,
   "metadata": {},
   "outputs": [],
   "source": [
    "# Give me the artist, song title and song's length in the music app history that was heard during  sessionId = 338, and itemInSession  = 4\n",
    "query = \"\"\"\n",
    "        select artist, song, length from events_by_session_id_and_items where sessionId=338 and itemInSession=4;\n",
    "        \"\"\"\n",
    "\n",
    "run_select(query)\n",
    "                    "
   ]
  },
  {
   "cell_type": "markdown",
   "metadata": {},
   "source": [
    "### Query 2 \n",
    "> Give me only the following: name of artist, song (sorted by itemInSession) and user (first and last name) for userid = 10, sessionid = 182"
   ]
  },
  {
   "cell_type": "code",
   "execution_count": null,
   "metadata": {},
   "outputs": [],
   "source": [
    "# Create the table.\n",
    "# The table is dropped first so that subsequent runs dont \n",
    "# insert duplicate values into the database.\n",
    "drop_table(\"events_by_userid_and_sessionid\")\n",
    "\n",
    "# The primary key is chosen with the following reasoning. \n",
    "# A user id is unique, but does not uniquely identify a value. \n",
    "# The query wants us to filter on sessionid too. \n",
    "# These two values can not uniquely identify a row either. \n",
    "# When we add itemInSession as well, we have a unique row. \n",
    "# We put itemInSession as last clustering key because we don't want\n",
    "#  to filter based on that, but we need it to order the values.\n",
    "# The primary key consists of two composite keys because it makes sense\n",
    "# to cluster the data together for a given user and given session\n",
    "#  for this query in a single partition for performance reasons.\n",
    "query = \"\"\"CREATE TABLE IF NOT EXISTS events_by_userid_and_sessionid\n",
    "           (artist text, firstName text, gender text, itemInSession int, lastName text, length float, level text, location text, sessionId int, song text, userId int,\n",
    "            PRIMARY KEY ((userId, sessionId), itemInSession))\"\"\"\n",
    "run_create_query(query)"
   ]
  },
  {
   "cell_type": "code",
   "execution_count": null,
   "metadata": {},
   "outputs": [],
   "source": [
    "# Populate the table.\n",
    "query = \"\"\" \n",
    "INSERT INTO events_by_userid_and_sessionid \n",
    "(artist, firstName, gender, itemInSession, lastName, length, level, location, sessionId, song, userId)\n",
    "VALUES (%s, %s, %s, %s, %s, %s, %s, %s, %s, %s, %s)\n",
    "\"\"\"\n",
    "insert_all_from_csv(session, query)"
   ]
  },
  {
   "cell_type": "code",
   "execution_count": null,
   "metadata": {},
   "outputs": [],
   "source": [
    "# Give me only the following: name of artist, song (sorted by itemInSession) and user (first and last name) for userid = 10, sessionid = 182\n",
    "query = \"select artist, song, firstname, lastname from events_by_userid_and_sessionid where userId=10 and sessionId=182\"\n",
    "run_select(query)"
   ]
  },
  {
   "cell_type": "markdown",
   "metadata": {},
   "source": [
    "### Query 3\n",
    "> Give me every user name (first and last) in my music app history who listened to the song 'All Hands Against His Own'"
   ]
  },
  {
   "cell_type": "code",
   "execution_count": null,
   "metadata": {},
   "outputs": [],
   "source": [
    "# Create the table.\n",
    "# The table is dropped first so that subsequent runs dont \n",
    "# insert duplicate values into the database.\n",
    "drop_table(\"events_by_song_and_sessionid\")\n",
    "\n",
    "# The primary key is chosen with the following reasoning. \n",
    "# A song does not uniquely identify a row, so we have to add additional data. \n",
    "# A song in a particular session is not unique, because it can be played multiple times. \n",
    "# A song, a session, and the item in that session however do identify a row.\n",
    "# Because we are interested in all records for a given song it makes sense\n",
    "# to cluster that data together. \n",
    "# We therefore only have a single partition key. \n",
    "# This should group all records for a given song together and increase performance of our query.\n",
    "query = \"\"\"CREATE TABLE IF NOT EXISTS events_by_song_and_sessionid\n",
    "           (artist text, firstName text, gender text, itemInSession int, lastName text, length float, level text, location text, sessionId int, song text, userId int,\n",
    "            PRIMARY KEY (song, sessionId, itemInSession))\"\"\"\n",
    "run_create_query(query)"
   ]
  },
  {
   "cell_type": "code",
   "execution_count": null,
   "metadata": {},
   "outputs": [],
   "source": [
    "# Populate the table.\n",
    "query = \"\"\" \n",
    "INSERT INTO events_by_song_and_sessionid \n",
    "(artist, firstName, gender, itemInSession, lastName, length, level, location, sessionId, song, userId)\n",
    "VALUES (%s, %s, %s, %s, %s, %s, %s, %s, %s, %s, %s)\n",
    "\"\"\"\n",
    "insert_all_from_csv(session, query)"
   ]
  },
  {
   "cell_type": "code",
   "execution_count": null,
   "metadata": {},
   "outputs": [],
   "source": [
    "# Give me every user name (first and last) in my music app history who listened to the song 'All Hands Against His Own'\n",
    "query = \"select artist, song, firstname, lastname from events_by_song_and_sessionid where song='All Hands Against His Own';\"\n",
    "run_select(query)"
   ]
  },
  {
   "cell_type": "markdown",
   "metadata": {},
   "source": [
    "### Drop the tables before closing out the sessions"
   ]
  },
  {
   "cell_type": "code",
   "execution_count": null,
   "metadata": {},
   "outputs": [],
   "source": [
    "tables = [\"events_by_session_id_and_items\", \"events_by_userid_and_sessionid\", \"events_by_song_and_sessionid\"]\n",
    "for table in tables: \n",
    "    drop_table(table)"
   ]
  },
  {
   "cell_type": "markdown",
   "metadata": {},
   "source": [
    "### Close the session and cluster connection¶"
   ]
  },
  {
   "cell_type": "code",
   "execution_count": null,
   "metadata": {},
   "outputs": [],
   "source": [
    "session.shutdown()\n",
    "cluster.shutdown()"
   ]
  }
 ],
 "metadata": {
  "kernelspec": {
   "display_name": "Python 3.10.6 ('venv': venv)",
   "language": "python",
   "name": "python3"
  },
  "language_info": {
   "codemirror_mode": {
    "name": "ipython",
    "version": 3
   },
   "file_extension": ".py",
   "mimetype": "text/x-python",
   "name": "python",
   "nbconvert_exporter": "python",
   "pygments_lexer": "ipython3",
   "version": "3.10.6"
  },
  "vscode": {
   "interpreter": {
    "hash": "2f79927c8d013c02c23aca0e938053745eab9e726f64e16b03ccaa0422527600"
   }
  }
 },
 "nbformat": 4,
 "nbformat_minor": 2
}
